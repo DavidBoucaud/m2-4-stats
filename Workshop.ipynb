{
 "cells": [
  {
   "cell_type": "markdown",
   "metadata": {},
   "source": [
    "# Tennis points won\n",
    "\n",
    "In the `tennis.csv` files of games played by Federer.\n",
    "\n",
    "Does Federer score more total points than his opponent on average in a game?"
   ]
  },
  {
   "cell_type": "markdown",
   "metadata": {},
   "source": [
    "# 2. College correlations\n",
    "\n",
    "The `college.csv` filecontains a number of variables for 777 different universities and colleges in the US.\n",
    "\n",
    "### 2.1\n",
    "\n",
    "Use a scatterplot matrix to analyze the data and answer the following questions:\n",
    "\n",
    "1. Which columns are possibly from a normal distribution? Statistically test if this is the case (you'll find a function for it in `scipy.stats`). For each explain if it is or not normally distributed.\n",
    "\n",
    "2. Of the columns that aren't normally distributed, name which distribution could possibly fit them? (Use your research skills)\n",
    "\n",
    "3. Give 3 pairs of columns that are highly correlated? Give their correlation coefficients.\n",
    "\n",
    "4. Give 3 column pairs that are not correlated? Give their correlation coefficients."
   ]
  },
  {
   "cell_type": "markdown",
   "metadata": {},
   "source": [
    "### 2.2 Boxplot\n",
    "\n",
    "Make a boxplot of private vs outstate colleges. It should look like:\n",
    "\n",
    "![](boxplort.png)"
   ]
  },
  {
   "cell_type": "markdown",
   "metadata": {},
   "source": [
    "# 3. Auto data\n",
    "\n",
    "The `auto.csv` data file is malformed.\n",
    "\n",
    "Fix it (using only python) so that it can be read into pandas, and then give a scatterplot matrix of horsepower, weight, year and mpg.\n",
    "\n",
    "Did cars get more efficient over time? Make an argument on this question."
   ]
  },
  {
   "cell_type": "markdown",
   "metadata": {},
   "source": [
    "### 3.2 Auto Statistics\n",
    "\n",
    "What is the mean, median and standard deviation of each quantitative feature?\n"
   ]
  },
  {
   "cell_type": "markdown",
   "metadata": {},
   "source": [
    "### 3.3 data removal\n",
    "\n",
    "Remove the 10th through 85th observations. \n",
    "\n",
    "Does the mean statistically significantly change for each of the columns?\n",
    "\n"
   ]
  },
  {
   "cell_type": "markdown",
   "metadata": {},
   "source": [
    "# 4. Boston housing dataset\n",
    "\n",
    "You can use `from sklearn.datasets import load_boston` to load the boston housing dataset.\n",
    "\n",
    "The `load_boston()['DESCR']` will describe columns for you.\n",
    "\n",
    "Are any of the columns associated with per capita crime rate? If so, show the numeric relationship and give a possible explanation for highly correlated/negatively correlated features"
   ]
  },
  {
   "cell_type": "markdown",
   "metadata": {},
   "source": [
    "### 4.2 Do any of the suburbs of Boston appear to have particularly high crime rates? Tax rates? Pupil-teacher ratios?\n",
    "\n",
    "\n"
   ]
  },
  {
   "cell_type": "markdown",
   "metadata": {},
   "source": [
    "### 4.3 How many of the suburbs in this data set bound the Charles river?"
   ]
  },
  {
   "cell_type": "markdown",
   "metadata": {},
   "source": [
    "### 4.4 What is the median pupil-teacher ratio among the towns in this data set?"
   ]
  },
  {
   "cell_type": "markdown",
   "metadata": {},
   "source": [
    "### 4.5 Which suburb of Boston has lowest median value of owneroccupied homes? What are the values of the other predictors for that suburb, and how do those values compare to the overall ranges for those predictors? Comment on your findings.\n",
    "\n"
   ]
  },
  {
   "cell_type": "markdown",
   "metadata": {},
   "source": [
    "### 4.6 In this data set, how many of the suburbs average more than seven rooms per dwelling? More than eight rooms per dwelling? Comment on the suburbs that average more than eight rooms per dwelling.\n",
    "\n",
    "\n"
   ]
  },
  {
   "cell_type": "code",
   "execution_count": null,
   "metadata": {},
   "outputs": [],
   "source": []
  }
 ],
 "metadata": {
  "kernelspec": {
   "display_name": "Python 3",
   "language": "python",
   "name": "python3"
  },
  "language_info": {
   "codemirror_mode": {
    "name": "ipython",
    "version": 3
   },
   "file_extension": ".py",
   "mimetype": "text/x-python",
   "name": "python",
   "nbconvert_exporter": "python",
   "pygments_lexer": "ipython3",
   "version": "3.7.4"
  }
 },
 "nbformat": 4,
 "nbformat_minor": 2
}
